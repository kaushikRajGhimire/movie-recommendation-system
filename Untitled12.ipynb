{
 "cells": [
  {
   "cell_type": "code",
   "execution_count": 6,
   "id": "9858285f",
   "metadata": {},
   "outputs": [
    {
     "name": "stdout",
     "output_type": "stream",
     "text": [
      "Recommended movies for 'WALL-E':\n",
      "22                               Tangled\n",
      "64                     Gnomeo and Juliet\n",
      "65                     Gnomeo and Juliet\n",
      "3                           When in Rome\n",
      "16                          The Proposal\n",
      "69                             Enchanted\n",
      "60    High School Musical 3: Senior Year\n",
      "44                         Marley and Me\n",
      "68                             Fireproof\n",
      "12                              Twilight\n",
      "Name: Film, dtype: object\n"
     ]
    }
   ],
   "source": [
    "import pandas as pd\n",
    "from sklearn.feature_extraction.text import TfidfVectorizer\n",
    "from sklearn.metrics.pairwise import linear_kernel\n",
    "\n",
    "data = pd.read_csv('movies.csv')\n",
    "\n",
    "data['overview'] = data['Film'] + ' ' + data['Genre'] + ' ' + data['Lead Studio'] + ' ' + data['Year'].astype(str)\n",
    "tfidf_vectorizer = TfidfVectorizer(stop_words='english')\n",
    "tfidf_matrix = tfidf_vectorizer.fit_transform(data['overview'])\n",
    "\n",
    "cosine_sim = linear_kernel(tfidf_matrix, tfidf_matrix)\n",
    "\n",
    "def get_recommendations(title, cosine_sim=cosine_sim):\n",
    "    idx = data.loc[data['Film'] == title].index[0]\n",
    "    sim_scores = list(enumerate(cosine_sim[idx]))\n",
    "    sim_scores = sorted(sim_scores, key=lambda x: x[1], reverse=True)\n",
    "    sim_scores = sim_scores[1:11]\n",
    "    movie_indices = [i[0] for i in sim_scores]\n",
    "    return data['Film'].iloc[movie_indices]\n",
    "\n",
    "movie_title = \"WALL-E\"\n",
    "recommendations = get_recommendations(movie_title)\n",
    "print(f\"Recommended movies for '{movie_title}':\")\n",
    "print(recommendations)\n",
    "\n"
   ]
  },
  {
   "cell_type": "code",
   "execution_count": null,
   "id": "e55da919",
   "metadata": {},
   "outputs": [],
   "source": []
  }
 ],
 "metadata": {
  "kernelspec": {
   "display_name": "Python 3 (ipykernel)",
   "language": "python",
   "name": "python3"
  },
  "language_info": {
   "codemirror_mode": {
    "name": "ipython",
    "version": 3
   },
   "file_extension": ".py",
   "mimetype": "text/x-python",
   "name": "python",
   "nbconvert_exporter": "python",
   "pygments_lexer": "ipython3",
   "version": "3.9.13"
  }
 },
 "nbformat": 4,
 "nbformat_minor": 5
}
